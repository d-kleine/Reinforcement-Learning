{
 "cells": [
  {
   "cell_type": "code",
   "execution_count": 2,
   "id": "c7b0a51f",
   "metadata": {
    "scrolled": true
   },
   "outputs": [
    {
     "data": {
      "text/plain": [
       "6.16"
      ]
     },
     "execution_count": 2,
     "metadata": {},
     "output_type": "execute_result"
    }
   ],
   "source": [
    "6 + (0.1*(-1 + (0.1 * 8) + (0.1 * 7) + (0.7 * 9) + (0.1 * 8) - 6))"
   ]
  },
  {
   "cell_type": "code",
   "execution_count": 5,
   "id": "ad04cdb4",
   "metadata": {},
   "outputs": [
    {
     "data": {
      "text/plain": [
       "-2.880000000000001"
      ]
     },
     "execution_count": 5,
     "metadata": {},
     "output_type": "execute_result"
    }
   ],
   "source": [
    "(1-0.2)*(-3.2) + 0.2*(-1-0.6)"
   ]
  }
 ],
 "metadata": {
  "kernelspec": {
   "display_name": "Python 3",
   "language": "python",
   "name": "python3"
  },
  "language_info": {
   "codemirror_mode": {
    "name": "ipython",
    "version": 3
   },
   "file_extension": ".py",
   "mimetype": "text/x-python",
   "name": "python",
   "nbconvert_exporter": "python",
   "pygments_lexer": "ipython3",
   "version": "3.6.13"
  }
 },
 "nbformat": 4,
 "nbformat_minor": 5
}
